{
  "nbformat": 4,
  "nbformat_minor": 0,
  "metadata": {
    "colab": {
      "name": "single_channel_queueing_system.ipynb",
      "provenance": []
    },
    "kernelspec": {
      "name": "python3",
      "display_name": "Python 3"
    },
    "language_info": {
      "name": "python"
    }
  },
  "cells": [
    {
      "cell_type": "code",
      "metadata": {
        "colab": {
          "base_uri": "https://localhost:8080/"
        },
        "id": "H9W4dNr-zMAe",
        "outputId": "797a7720-9908-4632-992c-8da73eba3845"
      },
      "source": [
        "#Importing distribution method from scipy\n",
        "from scipy.stats import *\n",
        "interArrivalTime = []\n",
        "AT = []\n",
        "ST = []\n",
        "serviceTimeBegin = []\n",
        "serviceTimeEnd = []\n",
        "timeSpend = []\n",
        "timeIdleServer = []\n",
        "WT = [] \n",
        "mu = 5.6 \n",
        "for i in range (19):\n",
        "  n = poisson.rvs(mu)\n",
        "  interArrivalTime.append(n)\n",
        "\n",
        "interArrivalTime.insert(0,0)\n",
        "AT.insert(0,0)\n",
        "serviceTimeBegin.insert(0,0)\n",
        "WT.insert(0,0)\n",
        "timeIdleServer.insert(0,0)\n",
        "\n",
        "for i in range (1,20):\n",
        "    AT.append(interArrivalTime[i] + AT[i-1])\n",
        " \n",
        "for i in range (20):\n",
        "  n = expon.rvs(scale=0.8, loc=6)\n",
        "  ST.append(round(n))\n",
        "\n",
        "serviceTimeEnd.insert(0,(ST[0] + serviceTimeBegin[0]))\n",
        "\n",
        "for i in range (1,20):\n",
        "  if (AT[i] > serviceTimeEnd[i-1]):\n",
        "    serviceTimeBegin.insert(i,round(AT[i],2))\n",
        "    serviceTimeEnd.insert(i,serviceTimeBegin[i] + ST[i])\n",
        "  else:\n",
        "    serviceTimeBegin.append(serviceTimeEnd[i-1])\n",
        "    serviceTimeEnd.insert(i,round((serviceTimeBegin[i] + ST[i]),2))\n",
        " \n",
        "for i in range (1,20):\n",
        "  if (serviceTimeBegin[i] > AT[i]):\n",
        "    WT.insert(i,round((serviceTimeBegin[i] - AT[i]) ,2))\n",
        "  else:\n",
        "    WT.insert(i,0)\n",
        "\n",
        "for i in range(20):\n",
        "  timeSpend.insert(i, ST[i] + WT[i])\n",
        "\n",
        "for i in range (1,20):\n",
        "  if (serviceTimeEnd[i-1] < AT[i]):\n",
        "    timeIdleServer.insert(i,round((AT[i] - serviceTimeEnd[i-1]),2))\n",
        "  else:\n",
        "    timeIdleServer.insert(i,0)\n",
        " \n",
        "print(\"Customer\\t Interarrival\\t Arrival\\t Service \\t SBT\\t\\t SET\\t\\t Waiting \\t Time Spend\\t Server Idle\")\n",
        "print(\"   No\\t \\t     Time\\t  Time\\t\\t  Time\\t\\t\\t\\t\\t\\t  Time\\t\\t in System\\t    Time    \")\n",
        "\n",
        "for i in range (1,21):\n",
        "  print(\"   \",i ,\"\\t\\t\", interArrivalTime[i-1], \"\\t\\t\", AT[i-1], \"\\t\\t\", ST[i-1], \"\\t\\t\", serviceTimeBegin[i-1], \"\\t\\t\" , serviceTimeEnd[i-1], \"\\t\\t\", WT[i-1], \"\\t\\t\", timeSpend[i-1], \"\\t\\t\", timeIdleServer[i-1])"
      ],
      "execution_count": 3,
      "outputs": [
        {
          "output_type": "stream",
          "text": [
            "Customer\t Interarrival\t Arrival\t Service \t SBT\t\t SET\t\t Waiting \t Time Spend\t Server Idle\n",
            "   No\t \t     Time\t  Time\t\t  Time\t\t\t\t\t\t  Time\t\t in System\t    Time    \n",
            "    1 \t\t 0 \t\t 0 \t\t 6 \t\t 0 \t\t 6 \t\t 0 \t\t 6 \t\t 0\n",
            "    2 \t\t 3 \t\t 3 \t\t 8 \t\t 6 \t\t 14 \t\t 3 \t\t 11 \t\t 0\n",
            "    3 \t\t 5 \t\t 8 \t\t 6 \t\t 14 \t\t 20 \t\t 6 \t\t 12 \t\t 0\n",
            "    4 \t\t 7 \t\t 15 \t\t 6 \t\t 20 \t\t 26 \t\t 5 \t\t 11 \t\t 0\n",
            "    5 \t\t 6 \t\t 21 \t\t 6 \t\t 26 \t\t 32 \t\t 5 \t\t 11 \t\t 0\n",
            "    6 \t\t 4 \t\t 25 \t\t 6 \t\t 32 \t\t 38 \t\t 7 \t\t 13 \t\t 0\n",
            "    7 \t\t 7 \t\t 32 \t\t 6 \t\t 38 \t\t 44 \t\t 6 \t\t 12 \t\t 0\n",
            "    8 \t\t 3 \t\t 35 \t\t 7 \t\t 44 \t\t 51 \t\t 9 \t\t 16 \t\t 0\n",
            "    9 \t\t 9 \t\t 44 \t\t 7 \t\t 51 \t\t 58 \t\t 7 \t\t 14 \t\t 0\n",
            "    10 \t\t 6 \t\t 50 \t\t 7 \t\t 58 \t\t 65 \t\t 8 \t\t 15 \t\t 0\n",
            "    11 \t\t 6 \t\t 56 \t\t 6 \t\t 65 \t\t 71 \t\t 9 \t\t 15 \t\t 0\n",
            "    12 \t\t 6 \t\t 62 \t\t 7 \t\t 71 \t\t 78 \t\t 9 \t\t 16 \t\t 0\n",
            "    13 \t\t 7 \t\t 69 \t\t 7 \t\t 78 \t\t 85 \t\t 9 \t\t 16 \t\t 0\n",
            "    14 \t\t 4 \t\t 73 \t\t 7 \t\t 85 \t\t 92 \t\t 12 \t\t 19 \t\t 0\n",
            "    15 \t\t 6 \t\t 79 \t\t 8 \t\t 92 \t\t 100 \t\t 13 \t\t 21 \t\t 0\n",
            "    16 \t\t 8 \t\t 87 \t\t 7 \t\t 100 \t\t 107 \t\t 13 \t\t 20 \t\t 0\n",
            "    17 \t\t 7 \t\t 94 \t\t 6 \t\t 107 \t\t 113 \t\t 13 \t\t 19 \t\t 0\n",
            "    18 \t\t 4 \t\t 98 \t\t 6 \t\t 113 \t\t 119 \t\t 15 \t\t 21 \t\t 0\n",
            "    19 \t\t 2 \t\t 100 \t\t 6 \t\t 119 \t\t 125 \t\t 19 \t\t 25 \t\t 0\n",
            "    20 \t\t 5 \t\t 105 \t\t 7 \t\t 125 \t\t 132 \t\t 20 \t\t 27 \t\t 0\n"
          ],
          "name": "stdout"
        }
      ]
    }
  ]
}